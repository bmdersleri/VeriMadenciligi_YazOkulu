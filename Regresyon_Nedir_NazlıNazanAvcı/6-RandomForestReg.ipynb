{
 "cells": [
  {
   "cell_type": "markdown",
   "id": "conditional-flooring",
   "metadata": {},
   "source": [
    "randomfrorest rasgele karar ağaçlarından oluşur. rasgele k adet agaç oluşturuyordu. rasgele nokta secip bir ağac olusturuyor. Topluluk öğrenmesi.K adet agaç belirliyor. rasgele noktadan ağac oluşturuyor. yeni değer gelince agaclara soruyor. hepsinin ort alıyor.  cogunlugun dediği sonuc oluyoır."
   ]
  },
  {
   "cell_type": "code",
   "execution_count": 1,
   "id": "vulnerable-italian",
   "metadata": {},
   "outputs": [],
   "source": [
    "import numpy as np\n",
    "import matplotlib.pyplot as plt\n",
    "import pandas as pd"
   ]
  },
  {
   "cell_type": "code",
   "execution_count": 2,
   "id": "several-adobe",
   "metadata": {},
   "outputs": [],
   "source": [
    "dataset=pd.read_csv(\"energy.csv\")\n",
    "X=dataset.iloc[:,:-1].values\n",
    "y=dataset.iloc[:,-1].values"
   ]
  },
  {
   "cell_type": "code",
   "execution_count": 3,
   "id": "sublime-microphone",
   "metadata": {},
   "outputs": [],
   "source": [
    "from sklearn.model_selection import train_test_split\n",
    "X_train, X_test, y_train, y_test = train_test_split(X,y, test_size=0.2)"
   ]
  },
  {
   "cell_type": "code",
   "execution_count": 4,
   "id": "desperate-chemistry",
   "metadata": {},
   "outputs": [
    {
     "data": {
      "text/plain": [
       "LinearRegression()"
      ]
     },
     "execution_count": 4,
     "metadata": {},
     "output_type": "execute_result"
    }
   ],
   "source": [
    "from sklearn.linear_model import LinearRegression\n",
    "regressor=LinearRegression()\n",
    "regressor.fit(X_train, y_train)"
   ]
  },
  {
   "cell_type": "code",
   "execution_count": 5,
   "id": "declared-worst",
   "metadata": {},
   "outputs": [],
   "source": [
    "y_pred=regressor.predict(X_test)\n",
    "np.set_printoptions(precision=2)"
   ]
  },
  {
   "cell_type": "code",
   "execution_count": 6,
   "id": "touched-oxide",
   "metadata": {},
   "outputs": [
    {
     "data": {
      "text/plain": [
       "array([465.68, 431.41, 445.75, ..., 435.63, 429.81, 471.7 ])"
      ]
     },
     "execution_count": 6,
     "metadata": {},
     "output_type": "execute_result"
    }
   ],
   "source": [
    "y_pred"
   ]
  },
  {
   "cell_type": "code",
   "execution_count": 7,
   "id": "opened-century",
   "metadata": {},
   "outputs": [
    {
     "data": {
      "text/plain": [
       "array([463.9 , 431.07, 442.79, ..., 433.97, 433.39, 475.89])"
      ]
     },
     "execution_count": 7,
     "metadata": {},
     "output_type": "execute_result"
    }
   ],
   "source": [
    "y_test"
   ]
  },
  {
   "cell_type": "code",
   "execution_count": 8,
   "id": "differential-sister",
   "metadata": {},
   "outputs": [
    {
     "name": "stdout",
     "output_type": "stream",
     "text": [
      "[[465.68 463.9 ]\n",
      " [431.41 431.07]\n",
      " [445.75 442.79]\n",
      " ...\n",
      " [435.63 433.97]\n",
      " [429.81 433.39]\n",
      " [471.7  475.89]]\n"
     ]
    }
   ],
   "source": [
    "print(np.concatenate((y_pred.reshape(len(y_pred),1), y_test.reshape(len(y_test),1)),1))  "
   ]
  },
  {
   "cell_type": "code",
   "execution_count": 9,
   "id": "correct-river",
   "metadata": {},
   "outputs": [
    {
     "data": {
      "text/plain": [
       "0.933190615722879"
      ]
     },
     "execution_count": 9,
     "metadata": {},
     "output_type": "execute_result"
    }
   ],
   "source": [
    "from sklearn.metrics import r2_score\n",
    "r2_score(y_test,y_pred)"
   ]
  },
  {
   "cell_type": "markdown",
   "id": "prescription-mitchell",
   "metadata": {},
   "source": [
    "Liner Regresyonda 0.92 bulduk"
   ]
  },
  {
   "cell_type": "markdown",
   "id": "nutritional-campbell",
   "metadata": {},
   "source": [
    "Polinominal için bakalım"
   ]
  },
  {
   "cell_type": "code",
   "execution_count": 12,
   "id": "economic-singles",
   "metadata": {},
   "outputs": [],
   "source": [
    "dataset=pd.read_csv(\"energy.csv\")\n",
    "X=dataset.iloc[:,:-1].values\n",
    "y=dataset.iloc[:,-1].values"
   ]
  },
  {
   "cell_type": "code",
   "execution_count": 11,
   "id": "aggressive-cartridge",
   "metadata": {},
   "outputs": [],
   "source": [
    "from sklearn.model_selection import train_test_split\n",
    "X_train, X_test, y_train, y_test = train_test_split(X,y, test_size=0.2)"
   ]
  },
  {
   "cell_type": "code",
   "execution_count": 12,
   "id": "substantial-nelson",
   "metadata": {},
   "outputs": [
    {
     "data": {
      "text/plain": [
       "LinearRegression()"
      ]
     },
     "execution_count": 12,
     "metadata": {},
     "output_type": "execute_result"
    }
   ],
   "source": [
    "from sklearn.preprocessing import PolynomialFeatures\n",
    "from sklearn.linear_model import LinearRegression\n",
    "poly_reg=PolynomialFeatures(degree=5)\n",
    "X_poly=poly_reg.fit_transform(X_train)\n",
    "regressor=LinearRegression()\n",
    "regressor.fit(X_poly, y_train)"
   ]
  },
  {
   "cell_type": "code",
   "execution_count": 13,
   "id": "elder-junction",
   "metadata": {},
   "outputs": [
    {
     "name": "stdout",
     "output_type": "stream",
     "text": [
      "[[454.18 457.05]\n",
      " [458.9  465.66]\n",
      " [435.95 440.7 ]\n",
      " ...\n",
      " [445.93 441.99]\n",
      " [447.93 455.68]\n",
      " [435.19 433.28]]\n"
     ]
    }
   ],
   "source": [
    "y_pred=regressor.predict(poly_reg.transform(X_test))\n",
    "np.set_printoptions(precision=2)\n",
    "print(np.concatenate((y_pred.reshape(len(y_pred),1), y_test.reshape(len(y_test),1)),1)) "
   ]
  },
  {
   "cell_type": "code",
   "execution_count": 14,
   "id": "supposed-criterion",
   "metadata": {},
   "outputs": [
    {
     "data": {
      "text/plain": [
       "0.9325901554570027"
      ]
     },
     "execution_count": 14,
     "metadata": {},
     "output_type": "execute_result"
    }
   ],
   "source": [
    "from sklearn.metrics import r2_score\n",
    "r2_score(y_test,y_pred)"
   ]
  },
  {
   "cell_type": "markdown",
   "id": "occasional-polyester",
   "metadata": {},
   "source": [
    "şimdi de SVR ye uygulayalım. Bunu yapmadan önce feature Scaler uygulamak lazım. Bunun içinde y yi çeviriyoruz."
   ]
  },
  {
   "cell_type": "code",
   "execution_count": 15,
   "id": "remarkable-electron",
   "metadata": {},
   "outputs": [],
   "source": [
    "dataset=pd.read_csv(\"energy.csv\")\n",
    "X=dataset.iloc[:,:-1].values\n",
    "y=dataset.iloc[:,-1].values"
   ]
  },
  {
   "cell_type": "code",
   "execution_count": 16,
   "id": "civic-option",
   "metadata": {},
   "outputs": [],
   "source": [
    "y=y.reshape(len(y),1)\n",
    "from sklearn.model_selection import train_test_split\n",
    "X_train, X_test, y_train, y_test = train_test_split(X,y, test_size=0.2)"
   ]
  },
  {
   "cell_type": "code",
   "execution_count": 17,
   "id": "arabic-backup",
   "metadata": {},
   "outputs": [],
   "source": [
    "from sklearn.preprocessing import StandardScaler\n",
    "sc_X=StandardScaler()\n",
    "sc_y=StandardScaler()\n",
    "X_train=sc_X.fit_transform(X_train)\n",
    "y_train=sc_y.fit_transform(y_train)"
   ]
  },
  {
   "cell_type": "code",
   "execution_count": 18,
   "id": "sweet-disaster",
   "metadata": {},
   "outputs": [
    {
     "data": {
      "text/plain": [
       "SVR()"
      ]
     },
     "execution_count": 18,
     "metadata": {},
     "output_type": "execute_result"
    }
   ],
   "source": [
    "from sklearn.svm import SVR\n",
    "regressor=SVR(kernel=\"rbf\")\n",
    "regressor.fit(X_train,y_train.ravel())"
   ]
  },
  {
   "cell_type": "code",
   "execution_count": 19,
   "id": "cellular-hygiene",
   "metadata": {},
   "outputs": [
    {
     "name": "stdout",
     "output_type": "stream",
     "text": [
      "[[485.08 484.51]\n",
      " [467.02 467.74]\n",
      " [471.57 474.15]\n",
      " ...\n",
      " [434.   437.46]\n",
      " [431.37 434.78]\n",
      " [435.32 427.62]]\n"
     ]
    }
   ],
   "source": [
    "y_pred=sc_y.inverse_transform(regressor.predict(sc_X.transform(X_test)))\n",
    "np.set_printoptions(precision=2)\n",
    "print(np.concatenate((y_pred.reshape(len(y_pred),1), y_test.reshape(len(y_test),1)),1)) "
   ]
  },
  {
   "cell_type": "code",
   "execution_count": 22,
   "id": "dress-stomach",
   "metadata": {},
   "outputs": [
    {
     "data": {
      "text/plain": [
       "0.944478538967085"
      ]
     },
     "execution_count": 22,
     "metadata": {},
     "output_type": "execute_result"
    }
   ],
   "source": [
    "from sklearn.metrics import r2_score\n",
    "r2_score(y_test,y_pred)"
   ]
  },
  {
   "cell_type": "markdown",
   "id": "identified-plaintiff",
   "metadata": {},
   "source": [
    "Random Forest ile çalışalım"
   ]
  },
  {
   "cell_type": "code",
   "execution_count": 20,
   "id": "spanish-smart",
   "metadata": {},
   "outputs": [],
   "source": [
    "from sklearn.model_selection import train_test_split\n",
    "dataset=pd.read_csv(\"energy.csv\")\n",
    "X=dataset.iloc[:,:-1].values\n",
    "y=dataset.iloc[:,-1].values\n",
    "X_train, X_test, y_train, y_test = train_test_split(X,y, test_size=0.2)\n"
   ]
  },
  {
   "cell_type": "code",
   "execution_count": 30,
   "id": "experimental-monaco",
   "metadata": {},
   "outputs": [
    {
     "data": {
      "text/plain": [
       "RandomForestRegressor(n_estimators=150)"
      ]
     },
     "execution_count": 30,
     "metadata": {},
     "output_type": "execute_result"
    }
   ],
   "source": [
    "from sklearn.ensemble import RandomForestRegressor\n",
    "regressor=RandomForestRegressor(n_estimators=150)\n",
    "regressor.fit(X_train,y_train)"
   ]
  },
  {
   "cell_type": "code",
   "execution_count": null,
   "id": "eight-firewall",
   "metadata": {},
   "outputs": [],
   "source": []
  },
  {
   "cell_type": "markdown",
   "id": "equivalent-happening",
   "metadata": {},
   "source": [
    "n_estimators=15 (kaç tane ağaç olacagı),  random_state=0 olunca rasgele dallanmıyor belli bitr noktadan başlıyor"
   ]
  },
  {
   "cell_type": "code",
   "execution_count": 31,
   "id": "lucky-inclusion",
   "metadata": {},
   "outputs": [
    {
     "name": "stdout",
     "output_type": "stream",
     "text": [
      "[[451.05 448.04]\n",
      " [466.67 468.14]\n",
      " [464.39 463.05]\n",
      " ...\n",
      " [488.82 488.57]\n",
      " [473.1  473.33]\n",
      " [439.17 435.02]]\n"
     ]
    }
   ],
   "source": [
    "y_pred=regressor.predict(X_test)\n",
    "np.set_printoptions(precision=2)# virgülden sonra 2 adım\n",
    "print(np.concatenate((y_pred.reshape(len(y_pred),1), y_test.reshape(len(y_test),1)),1))  "
   ]
  },
  {
   "cell_type": "code",
   "execution_count": 33,
   "id": "improved-exercise",
   "metadata": {},
   "outputs": [
    {
     "data": {
      "text/plain": [
       "0.9627262767615634"
      ]
     },
     "execution_count": 33,
     "metadata": {},
     "output_type": "execute_result"
    }
   ],
   "source": [
    "from sklearn.metrics import r2_score\n",
    "r2_score(y_test,y_pred)"
   ]
  },
  {
   "cell_type": "markdown",
   "id": "promotional-incentive",
   "metadata": {},
   "source": [
    "Su model iyi veya kötü diyemeyiz. Doğrusal regresyon sadece doğrusal verilerde kullanılır. Doğrusal regresyonda amacımız regresyon çizgisinin tam üzerinde  üzerinde olmasıydı. Ama bu her zaman mümkün olmuyor. Çizgiden sapmalar oluyor. Bunun sakıncası ise doğru tahmini tam yapamıyor. Amacımız çizgiye olan uzaklığın en az olmasını sağlamak. Bunun için bazı algoritmalar var. SS değeri diye bir algoritma var.\n",
    "polinominal için her boyutta çalışır. Doğrusal olmayan veriler için çok iyidir.\n",
    "Ancak polinominalde degree(keskinlik) yi bizim seçmemiz bir eksikliktir. \n",
    "SVR ise doğrular olmayan verilerde kullanabiliriz. Ancak Scaler gerekiyor. Bir hesaplama ile sonuca ulaşıldığı için aykırı değer varsa feature bile işe yaramayabilir. Yorumlanması daha zor.\n",
    "Desicion Tree : SVR ile karşılaştırırsak feature ye gerek yok. \n",
    "hem dogrusal hem dogrusal olmayanda çalışır. Ancak regresyon olarak belirli bi sonuc üretir. Net sonuc ta kötü bir algoritmadır.\n",
    "Random Forest: Dogrusal dogrusal olmayanda , tek boyutlu çok boyutluda  cok iyi çalışır. Ancak Ağaç sayısını bizim vermemiz kötüdür. Yorumlamak zor. Rasgeleliğe çok bağlıdır. Agacı 5 yapmakla 10 yapmamkta elde edilen sonuç çok farklı çıkıyor."
   ]
  },
  {
   "cell_type": "code",
   "execution_count": null,
   "id": "hindu-minimum",
   "metadata": {},
   "outputs": [],
   "source": []
  }
 ],
 "metadata": {
  "kernelspec": {
   "display_name": "Python 3",
   "language": "python",
   "name": "python3"
  },
  "language_info": {
   "codemirror_mode": {
    "name": "ipython",
    "version": 3
   },
   "file_extension": ".py",
   "mimetype": "text/x-python",
   "name": "python",
   "nbconvert_exporter": "python",
   "pygments_lexer": "ipython3",
   "version": "3.7.9"
  }
 },
 "nbformat": 4,
 "nbformat_minor": 5
}
