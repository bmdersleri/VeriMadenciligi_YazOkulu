{
 "cells": [
  {
   "cell_type": "markdown",
   "id": "requested-religious",
   "metadata": {},
   "source": [
    "header=None"
   ]
  },
  {
   "cell_type": "code",
   "execution_count": 81,
   "id": "reverse-retail",
   "metadata": {},
   "outputs": [],
   "source": [
    "import numpy as np\n",
    "import matplotlib.pyplot as plt\n",
    "import pandas as pd\n",
    "from sklearn.impute import SimpleImputer"
   ]
  },
  {
   "cell_type": "code",
   "execution_count": 82,
   "id": "prescribed-blues",
   "metadata": {},
   "outputs": [],
   "source": [
    "dataset=pd.read_csv(\"heartTable.csv\")\n"
   ]
  },
  {
   "cell_type": "code",
   "execution_count": 83,
   "id": "future-skirt",
   "metadata": {},
   "outputs": [],
   "source": [
    "X=dataset.iloc[:,:-1].values\n",
    "y=dataset.iloc[:,-1].values"
   ]
  },
  {
   "cell_type": "code",
   "execution_count": 84,
   "id": "convenient-newfoundland",
   "metadata": {},
   "outputs": [
    {
     "data": {
      "text/plain": [
       "Index(['Yaş', 'Cinsiyet', 'cp', 'trtbps', 'chol', 'thalachh', 'fbs', 'restecg',\n",
       "       'exng', 'oldpeak', 'slp', 'caa', 'thall', 'Riskli'],\n",
       "      dtype='object')"
      ]
     },
     "execution_count": 84,
     "metadata": {},
     "output_type": "execute_result"
    }
   ],
   "source": [
    "#dataset.isnull().sum()\n",
    "#dataset.notnull().sum()\n",
    "dataset.dtypes\n",
    "dataset.columns"
   ]
  },
  {
   "cell_type": "code",
   "execution_count": 85,
   "id": "iraqi-study",
   "metadata": {},
   "outputs": [
    {
     "data": {
      "text/html": [
       "<div>\n",
       "<style scoped>\n",
       "    .dataframe tbody tr th:only-of-type {\n",
       "        vertical-align: middle;\n",
       "    }\n",
       "\n",
       "    .dataframe tbody tr th {\n",
       "        vertical-align: top;\n",
       "    }\n",
       "\n",
       "    .dataframe thead th {\n",
       "        text-align: right;\n",
       "    }\n",
       "</style>\n",
       "<table border=\"1\" class=\"dataframe\">\n",
       "  <thead>\n",
       "    <tr style=\"text-align: right;\">\n",
       "      <th></th>\n",
       "      <th>Cinsiyet</th>\n",
       "    </tr>\n",
       "  </thead>\n",
       "  <tbody>\n",
       "    <tr>\n",
       "      <th>15</th>\n",
       "      <td>Kız</td>\n",
       "    </tr>\n",
       "    <tr>\n",
       "      <th>16</th>\n",
       "      <td>Kız</td>\n",
       "    </tr>\n",
       "    <tr>\n",
       "      <th>17</th>\n",
       "      <td>Kız</td>\n",
       "    </tr>\n",
       "    <tr>\n",
       "      <th>18</th>\n",
       "      <td>Erkek</td>\n",
       "    </tr>\n",
       "    <tr>\n",
       "      <th>19</th>\n",
       "      <td>Kız</td>\n",
       "    </tr>\n",
       "    <tr>\n",
       "      <th>20</th>\n",
       "      <td>Erkek</td>\n",
       "    </tr>\n",
       "    <tr>\n",
       "      <th>21</th>\n",
       "      <td>Erkek</td>\n",
       "    </tr>\n",
       "    <tr>\n",
       "      <th>22</th>\n",
       "      <td>Erkek</td>\n",
       "    </tr>\n",
       "    <tr>\n",
       "      <th>23</th>\n",
       "      <td>Erkek</td>\n",
       "    </tr>\n",
       "    <tr>\n",
       "      <th>24</th>\n",
       "      <td>Erkek</td>\n",
       "    </tr>\n",
       "  </tbody>\n",
       "</table>\n",
       "</div>"
      ],
      "text/plain": [
       "   Cinsiyet\n",
       "15      Kız\n",
       "16      Kız\n",
       "17      Kız\n",
       "18    Erkek\n",
       "19      Kız\n",
       "20    Erkek\n",
       "21    Erkek\n",
       "22    Erkek\n",
       "23    Erkek\n",
       "24    Erkek"
      ]
     },
     "execution_count": 85,
     "metadata": {},
     "output_type": "execute_result"
    }
   ],
   "source": [
    "kat_dataset=dataset.select_dtypes(include=[\"object\"]) #kategorik değişkenleri bulur\n",
    "kat_dataset[15:25]"
   ]
  },
  {
   "cell_type": "code",
   "execution_count": 86,
   "id": "appropriate-ground",
   "metadata": {},
   "outputs": [
    {
     "data": {
      "text/plain": [
       "(242, 13)"
      ]
     },
     "execution_count": 86,
     "metadata": {},
     "output_type": "execute_result"
    }
   ],
   "source": [
    "X_train.shape"
   ]
  },
  {
   "cell_type": "code",
   "execution_count": 87,
   "id": "knowing-diary",
   "metadata": {},
   "outputs": [
    {
     "data": {
      "text/plain": [
       "(61, 13)"
      ]
     },
     "execution_count": 87,
     "metadata": {},
     "output_type": "execute_result"
    }
   ],
   "source": [
    "X_test.shape"
   ]
  },
  {
   "cell_type": "code",
   "execution_count": 88,
   "id": "decimal-congress",
   "metadata": {},
   "outputs": [],
   "source": [
    "from sklearn.preprocessing import LabelEncoder\n",
    "le=LabelEncoder()"
   ]
  },
  {
   "cell_type": "code",
   "execution_count": 89,
   "id": "express-worthy",
   "metadata": {},
   "outputs": [
    {
     "data": {
      "text/plain": [
       "array([0, 0, 1, 0, 1, 0, 1, 0, 0, 0, 0, 1, 0, 0, 1, 1, 1, 1, 0, 1, 0, 0,\n",
       "       0, 0, 0, 1, 0, 0, 1, 0, 1, 0, 0, 0, 0, 1, 1, 0, 1, 1, 1, 0, 0, 1,\n",
       "       0, 0, 0, 0, 1, 1, 1, 0, 0, 1, 1, 0, 0, 0, 0, 1, 1, 0, 0, 0, 0, 1,\n",
       "       0, 1, 0, 1, 0, 0, 0, 0, 1, 1, 0, 0, 0, 0, 0, 0, 1, 0, 1, 1, 0, 0,\n",
       "       1, 1, 0, 0, 0, 1, 1, 0, 1, 0, 0, 0, 0, 0, 1, 0, 0, 1, 0, 1, 1, 1,\n",
       "       1, 0, 1, 0, 0, 1, 0, 0, 1, 1, 1, 0, 1, 1, 1, 1, 0, 1, 1, 1, 1, 1,\n",
       "       0, 0, 1, 1, 1, 0, 0, 0, 1, 0, 1, 1, 1, 0, 1, 1, 0, 0, 0, 1, 0, 1,\n",
       "       1, 1, 0, 0, 0, 0, 0, 1, 0, 0, 0, 0, 0, 1, 0, 0, 0, 0, 0, 0, 0, 0,\n",
       "       0, 0, 0, 0, 0, 1, 1, 0, 0, 0, 0, 0, 0, 0, 1, 0, 0, 0, 0, 0, 0, 0,\n",
       "       0, 0, 0, 0, 0, 0, 1, 0, 0, 1, 0, 0, 0, 0, 0, 1, 0, 1, 1, 0, 0, 0,\n",
       "       1, 0, 0, 1, 0, 0, 0, 0, 0, 0, 0, 0, 0, 0, 0, 0, 0, 0, 0, 0, 0, 1,\n",
       "       0, 0, 0, 0, 1, 0, 0, 0, 0, 0, 1, 0, 0, 0, 0, 0, 1, 0, 1, 0, 0, 1,\n",
       "       0, 0, 1, 0, 0, 0, 0, 0, 0, 0, 0, 0, 0, 0, 1, 0, 0, 0, 0, 0, 0, 0,\n",
       "       0, 0, 0, 1, 0, 0, 1, 0, 0, 0, 1, 0, 1, 0, 0, 0, 1], dtype=object)"
      ]
     },
     "execution_count": 89,
     "metadata": {},
     "output_type": "execute_result"
    }
   ],
   "source": [
    "X[:,1]=le.fit_transform(X[:,1])\n",
    "X[:,1]"
   ]
  },
  {
   "cell_type": "code",
   "execution_count": 90,
   "id": "strange-buffer",
   "metadata": {},
   "outputs": [],
   "source": [
    "from sklearn.model_selection import train_test_split\n",
    "X_train, X_test, y_train, y_test = train_test_split(X,y, test_size=0.2, random_state=0)"
   ]
  },
  {
   "cell_type": "code",
   "execution_count": 91,
   "id": "respective-exception",
   "metadata": {},
   "outputs": [],
   "source": [
    "from sklearn.preprocessing import StandardScaler\n",
    "sc = StandardScaler()\n",
    "X_train = sc.fit_transform(X_train)\n",
    "X_test = sc.transform(X_test)"
   ]
  },
  {
   "cell_type": "code",
   "execution_count": null,
   "id": "compact-quebec",
   "metadata": {},
   "outputs": [],
   "source": []
  },
  {
   "cell_type": "code",
   "execution_count": null,
   "id": "raised-labor",
   "metadata": {},
   "outputs": [],
   "source": []
  },
  {
   "cell_type": "code",
   "execution_count": 93,
   "id": "competent-asset",
   "metadata": {},
   "outputs": [],
   "source": [
    "#X_test"
   ]
  },
  {
   "cell_type": "code",
   "execution_count": 95,
   "id": "honest-passage",
   "metadata": {},
   "outputs": [],
   "source": [
    "#X_train"
   ]
  },
  {
   "cell_type": "code",
   "execution_count": 96,
   "id": "behavioral-silly",
   "metadata": {},
   "outputs": [
    {
     "data": {
      "text/plain": [
       "LinearRegression()"
      ]
     },
     "execution_count": 96,
     "metadata": {},
     "output_type": "execute_result"
    }
   ],
   "source": [
    "from sklearn.linear_model import LinearRegression\n",
    "regressor=LinearRegression()\n",
    "regressor.fit(X_train, y_train)"
   ]
  },
  {
   "cell_type": "code",
   "execution_count": 97,
   "id": "million-insurance",
   "metadata": {},
   "outputs": [],
   "source": [
    "y_pred=regressor.predict(X_test)\n",
    "np.set_printoptions(precision=3)"
   ]
  },
  {
   "cell_type": "code",
   "execution_count": 98,
   "id": "aggressive-stocks",
   "metadata": {},
   "outputs": [
    {
     "data": {
      "text/plain": [
       "array([ 0.068,  0.717,  0.737,  0.013,  0.236,  0.519,  0.183,  0.269,\n",
       "       -0.188, -0.238,  0.652,  0.899,  0.108,  0.762,  0.994,  0.622,\n",
       "        0.173,  0.651, -0.147,  0.757,  0.723,  0.452,  0.251,  0.241,\n",
       "        0.801,  0.582,  0.319,  0.484,  1.06 ,  0.607,  0.621, -0.057,\n",
       "        1.005,  0.659,  0.866,  0.575,  0.07 ,  0.776,  0.182,  0.316,\n",
       "        0.668,  0.737,  0.426,  0.187,  0.52 ,  0.646,  0.75 ,  0.595,\n",
       "        0.139,  0.737,  0.783,  0.568,  1.002,  0.772,  1.253,  0.247,\n",
       "        0.934,  0.877,  0.692,  0.955,  0.718])"
      ]
     },
     "execution_count": 98,
     "metadata": {},
     "output_type": "execute_result"
    }
   ],
   "source": [
    "y_pred"
   ]
  },
  {
   "cell_type": "code",
   "execution_count": 99,
   "id": "classified-exercise",
   "metadata": {},
   "outputs": [
    {
     "data": {
      "text/plain": [
       "array([0, 1, 0, 0, 1, 0, 0, 0, 0, 0, 1, 1, 0, 1, 1, 1, 1, 1, 0, 1, 1, 0,\n",
       "       0, 0, 1, 0, 0, 0, 1, 1, 0, 0, 1, 1, 1, 0, 0, 1, 0, 0, 1, 1, 1, 0,\n",
       "       1, 1, 1, 0, 0, 1, 1, 1, 1, 1, 1, 0, 1, 0, 1, 1, 1], dtype=int64)"
      ]
     },
     "execution_count": 99,
     "metadata": {},
     "output_type": "execute_result"
    }
   ],
   "source": [
    "y_test"
   ]
  },
  {
   "cell_type": "code",
   "execution_count": 106,
   "id": "southern-integrity",
   "metadata": {},
   "outputs": [],
   "source": [
    "#y_pred.reshape(len(y_pred),1)"
   ]
  },
  {
   "cell_type": "code",
   "execution_count": 102,
   "id": "premier-character",
   "metadata": {},
   "outputs": [],
   "source": [
    "#y_test.reshape(len(y_test),1)"
   ]
  },
  {
   "cell_type": "code",
   "execution_count": 103,
   "id": "coordinate-darkness",
   "metadata": {},
   "outputs": [],
   "source": [
    "sonuc=np.concatenate((y_pred.reshape(len(y_pred),1),y_test.reshape(len(y_test),1)),1)    "
   ]
  },
  {
   "cell_type": "code",
   "execution_count": 110,
   "id": "interim-modern",
   "metadata": {},
   "outputs": [
    {
     "data": {
      "text/plain": [
       "array([[ 0.622,  1.   ],\n",
       "       [ 0.173,  1.   ],\n",
       "       [ 0.651,  1.   ],\n",
       "       [-0.147,  0.   ],\n",
       "       [ 0.757,  1.   ],\n",
       "       [ 0.723,  1.   ],\n",
       "       [ 0.452,  0.   ],\n",
       "       [ 0.251,  0.   ],\n",
       "       [ 0.241,  0.   ],\n",
       "       [ 0.801,  1.   ],\n",
       "       [ 0.582,  0.   ],\n",
       "       [ 0.319,  0.   ],\n",
       "       [ 0.484,  0.   ],\n",
       "       [ 1.06 ,  1.   ],\n",
       "       [ 0.607,  1.   ],\n",
       "       [ 0.621,  0.   ],\n",
       "       [-0.057,  0.   ],\n",
       "       [ 1.005,  1.   ],\n",
       "       [ 0.659,  1.   ],\n",
       "       [ 0.866,  1.   ],\n",
       "       [ 0.575,  0.   ],\n",
       "       [ 0.07 ,  0.   ],\n",
       "       [ 0.776,  1.   ],\n",
       "       [ 0.182,  0.   ],\n",
       "       [ 0.316,  0.   ],\n",
       "       [ 0.668,  1.   ],\n",
       "       [ 0.737,  1.   ],\n",
       "       [ 0.426,  1.   ],\n",
       "       [ 0.187,  0.   ],\n",
       "       [ 0.52 ,  1.   ],\n",
       "       [ 0.646,  1.   ],\n",
       "       [ 0.75 ,  1.   ],\n",
       "       [ 0.595,  0.   ],\n",
       "       [ 0.139,  0.   ],\n",
       "       [ 0.737,  1.   ],\n",
       "       [ 0.783,  1.   ],\n",
       "       [ 0.568,  1.   ],\n",
       "       [ 1.002,  1.   ],\n",
       "       [ 0.772,  1.   ],\n",
       "       [ 1.253,  1.   ],\n",
       "       [ 0.247,  0.   ],\n",
       "       [ 0.934,  1.   ],\n",
       "       [ 0.877,  0.   ],\n",
       "       [ 0.692,  1.   ],\n",
       "       [ 0.955,  1.   ],\n",
       "       [ 0.718,  1.   ]])"
      ]
     },
     "execution_count": 110,
     "metadata": {},
     "output_type": "execute_result"
    }
   ],
   "source": [
    "sonuc[15:115]"
   ]
  },
  {
   "cell_type": "code",
   "execution_count": null,
   "id": "arranged-martin",
   "metadata": {},
   "outputs": [],
   "source": []
  }
 ],
 "metadata": {
  "kernelspec": {
   "display_name": "Python 3",
   "language": "python",
   "name": "python3"
  },
  "language_info": {
   "codemirror_mode": {
    "name": "ipython",
    "version": 3
   },
   "file_extension": ".py",
   "mimetype": "text/x-python",
   "name": "python",
   "nbconvert_exporter": "python",
   "pygments_lexer": "ipython3",
   "version": "3.7.9"
  }
 },
 "nbformat": 4,
 "nbformat_minor": 5
}
