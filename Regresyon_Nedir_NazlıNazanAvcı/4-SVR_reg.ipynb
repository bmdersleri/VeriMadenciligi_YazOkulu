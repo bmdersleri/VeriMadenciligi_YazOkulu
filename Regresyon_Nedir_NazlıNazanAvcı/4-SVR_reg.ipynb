{
 "cells": [
  {
   "cell_type": "code",
   "execution_count": 11,
   "id": "higher-maker",
   "metadata": {},
   "outputs": [],
   "source": [
    "import numpy as np  #dizilerle çalışır\n",
    "import matplotlib.pyplot as plt\n",
    "import pandas as pd  # hariçten veri okur"
   ]
  },
  {
   "cell_type": "code",
   "execution_count": 12,
   "id": "driven-cheese",
   "metadata": {},
   "outputs": [],
   "source": [
    "dataset=pd.read_csv(\"salaryData.csv\")\n",
    "X=dataset.iloc[:,:-1].values\n",
    "y=dataset.iloc[:,-1].values"
   ]
  },
  {
   "cell_type": "code",
   "execution_count": 35,
   "id": "african-circus",
   "metadata": {},
   "outputs": [],
   "source": [
    "#X"
   ]
  },
  {
   "cell_type": "code",
   "execution_count": 13,
   "id": "official-mongolia",
   "metadata": {},
   "outputs": [
    {
     "data": {
      "text/plain": [
       "array([ 39343.,  46205.,  47731.,  53525.,  59891.,  66642.,  70150.,\n",
       "        74445.,  75445.,  77189.,  83218.,  85794.,  86957.,  87081.,\n",
       "        91111.,  97938.,  98029., 103088., 111363., 113940., 121738.,\n",
       "       128273., 131302., 133812., 139431., 145582., 156969., 162635.,\n",
       "       172391., 181872.])"
      ]
     },
     "execution_count": 13,
     "metadata": {},
     "output_type": "execute_result"
    }
   ],
   "source": [
    "y"
   ]
  },
  {
   "cell_type": "code",
   "execution_count": 23,
   "id": "nonprofit-concert",
   "metadata": {},
   "outputs": [],
   "source": [
    "y=y.reshape(len(y),1)\n",
    "#y"
   ]
  },
  {
   "cell_type": "code",
   "execution_count": 24,
   "id": "prompt-iceland",
   "metadata": {},
   "outputs": [],
   "source": [
    "from sklearn.preprocessing import StandardScaler\n",
    "sc_X=StandardScaler()\n",
    "sc_y=StandardScaler()"
   ]
  },
  {
   "cell_type": "code",
   "execution_count": 25,
   "id": "communist-secretary",
   "metadata": {},
   "outputs": [],
   "source": [
    "X=sc_X.fit_transform(X)\n",
    "y=sc_y.fit_transform(y)"
   ]
  },
  {
   "cell_type": "code",
   "execution_count": 26,
   "id": "arbitrary-latest",
   "metadata": {},
   "outputs": [
    {
     "data": {
      "text/plain": [
       "SVR()"
      ]
     },
     "execution_count": 26,
     "metadata": {},
     "output_type": "execute_result"
    }
   ],
   "source": [
    "from sklearn.svm import SVR\n",
    "regressor=SVR(kernel=\"rbf\")\n",
    "regressor.fit(X,y.ravel())"
   ]
  },
  {
   "cell_type": "code",
   "execution_count": 22,
   "id": "measured-fleet",
   "metadata": {},
   "outputs": [],
   "source": [
    "#y"
   ]
  },
  {
   "cell_type": "markdown",
   "id": "specific-league",
   "metadata": {},
   "source": [
    "y.ravel()"
   ]
  },
  {
   "cell_type": "code",
   "execution_count": 27,
   "id": "established-burton",
   "metadata": {},
   "outputs": [
    {
     "data": {
      "text/plain": [
       "array([91568.48606239])"
      ]
     },
     "execution_count": 27,
     "metadata": {},
     "output_type": "execute_result"
    }
   ],
   "source": [
    "sc_y.inverse_transform(regressor.predict(sc_X.transform([[4.4]])))"
   ]
  },
  {
   "cell_type": "code",
   "execution_count": 10,
   "id": "sized-communications",
   "metadata": {},
   "outputs": [
    {
     "data": {
      "text/plain": [
       "[<matplotlib.lines.Line2D at 0x281a8ae2c88>]"
      ]
     },
     "execution_count": 10,
     "metadata": {},
     "output_type": "execute_result"
    },
    {
     "data": {
      "image/png": "[encoded data removed]",
      "text/plain": [
       "<Figure size 432x288 with 1 Axes>"
      ]
     },
     "metadata": {
      "needs_background": "light"
     },
     "output_type": "display_data"
    }
   ],
   "source": [
    "plt.scatter(X,y,color='red')\n",
    "plt.plot(X,regressor.predict(X),color='blue')"
   ]
  },
  {
   "cell_type": "code",
   "execution_count": null,
   "id": "joint-superintendent",
   "metadata": {},
   "outputs": [],
   "source": []
  }
 ],
 "metadata": {
  "kernelspec": {
   "display_name": "Python 3",
   "language": "python",
   "name": "python3"
  },
  "language_info": {
   "codemirror_mode": {
    "name": "ipython",
    "version": 3
   },
   "file_extension": ".py",
   "mimetype": "text/x-python",
   "name": "python",
   "nbconvert_exporter": "python",
   "pygments_lexer": "ipython3",
   "version": "3.7.9"
  }
 },
 "nbformat": 4,
 "nbformat_minor": 5
}
