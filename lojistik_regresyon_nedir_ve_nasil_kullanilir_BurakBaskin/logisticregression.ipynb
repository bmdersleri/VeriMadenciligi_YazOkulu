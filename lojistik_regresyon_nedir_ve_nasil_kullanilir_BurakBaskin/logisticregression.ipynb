{
  "nbformat": 4,
  "nbformat_minor": 0,
  "metadata": {
    "colab": {
      "name": "logisticregression.ipynb",
      "provenance": [],
      "collapsed_sections": []
    },
    "kernelspec": {
      "name": "python3",
      "display_name": "Python 3"
    },
    "language_info": {
      "name": "python"
    }
  },
  "cells": [
    {
      "cell_type": "code",
      "metadata": {
        "id": "KkEJIRwy7nrG"
      },
      "source": [
        "#Gerekli modüller\n",
        "from sklearn.datasets import make_classification\n",
        "from matplotlib import pyplot as plt\n",
        "from sklearn.linear_model import LogisticRegression\n",
        "from sklearn.model_selection import train_test_split\n",
        "from sklearn.metrics import confusion_matrix\n",
        "import pandas as pd"
      ],
      "execution_count": null,
      "outputs": []
    },
    {
      "cell_type": "code",
      "metadata": {
        "id": "Fg6xiEG27zXB",
        "colab": {
          "base_uri": "https://localhost:8080/"
        },
        "outputId": "a10b6e24-7e09-46d2-bcd5-9d07ee6367f8"
      },
      "source": [
        "#Veri kümesi oluşturma\n",
        "x, y = make_classification(\n",
        "    n_samples=750000,\n",
        "    n_features=1,\n",
        "    n_classes=2,\n",
        "    n_clusters_per_class=1,\n",
        "    flip_y=0.03,\n",
        "    n_informative=1,\n",
        "    n_redundant=0,\n",
        "    n_repeated=0\n",
        ")\n",
        "print(y)"
      ],
      "execution_count": null,
      "outputs": [
        {
          "output_type": "stream",
          "text": [
            "[1 1 0 ... 1 0 0]\n"
          ],
          "name": "stdout"
        }
      ]
    },
    {
      "cell_type": "code",
      "metadata": {
        "id": "sFhvsadO73A3",
        "colab": {
          "base_uri": "https://localhost:8080/",
          "height": 281
        },
        "outputId": "1cec8527-7c6d-48f9-eb4d-7071a4b8dac9"
      },
      "source": [
        "#Veriyi görselleştirme\n",
        "plt.scatter(x, y, c=y, cmap='rainbow')\n",
        "plt.title('Scatter Plot of Logistic Regression')\n",
        "plt.show()"
      ],
      "execution_count": null,
      "outputs": [
        {
          "output_type": "display_data",
          "data": {
            "image/png": "[encoded data removed]",
            "text/plain": [
              "<Figure size 432x288 with 1 Axes>"
            ]
          },
          "metadata": {
            "needs_background": "light"
          }
        }
      ]
    },
    {
      "cell_type": "code",
      "metadata": {
        "id": "6vJ0NUHR74uf",
        "colab": {
          "base_uri": "https://localhost:8080/"
        },
        "outputId": "68743855-dd64-4b7a-daa6-c33a5cee5e39"
      },
      "source": [
        "#Veri kümesini bölme\n",
        "x_train, x_test, y_train, y_test = train_test_split(x, y, random_state=1)\n",
        "x_train.shape"
      ],
      "execution_count": null,
      "outputs": [
        {
          "output_type": "execute_result",
          "data": {
            "text/plain": [
              "(562500, 1)"
            ]
          },
          "metadata": {},
          "execution_count": 99
        }
      ]
    },
    {
      "cell_type": "code",
      "metadata": {
        "id": "qjuoDl7-7_af",
        "colab": {
          "base_uri": "https://localhost:8080/"
        },
        "outputId": "27f3667b-bae4-48f5-938b-6b4cc1b92092"
      },
      "source": [
        "#Lojistik regresyon uygulama\n",
        "log_reg = LogisticRegression()\n",
        "log_reg.fit(x_train, y_train)\n",
        "print(log_reg.coef_)"
      ],
      "execution_count": null,
      "outputs": [
        {
          "output_type": "stream",
          "text": [
            "[[4.6652905]]\n"
          ],
          "name": "stdout"
        }
      ]
    },
    {
      "cell_type": "code",
      "metadata": {
        "id": "B0zrI4Tu8BqP"
      },
      "source": [
        "#Tahmin yapma\n",
        "y_pred = log_reg.predict(x_test)"
      ],
      "execution_count": null,
      "outputs": []
    },
    {
      "cell_type": "code",
      "metadata": {
        "id": "ftM-q1kP8EOW",
        "colab": {
          "base_uri": "https://localhost:8080/"
        },
        "outputId": "2d176c92-2b55-414c-c6b3-59f541fcdef0"
      },
      "source": [
        "#Confusion matrix'ini görüntüleme\n",
        "confusion_matrix(y_test, y_pred)"
      ],
      "execution_count": null,
      "outputs": [
        {
          "output_type": "execute_result",
          "data": {
            "text/plain": [
              "array([[91741,  2055],\n",
              "       [ 1464, 92240]])"
            ]
          },
          "metadata": {},
          "execution_count": 102
        }
      ]
    }
  ]
}